{
 "cells": [
  {
   "cell_type": "markdown",
   "metadata": {},
   "source": [
    "## Introduction\n",
    "\n",
    "In this exercise, fertility dataset was analyzed so as to determine sperm concentrations from 100 volunteers, and how they are related to socio-demographic data, environmental factors, health status, and life habits. The features considered are:\n",
    "- Season\n",
    "- Age\n",
    "- Childish \n",
    "- diseases\n",
    "- Accident or serious trauma\n",
    "- Surgical intervention\n",
    "- High fevers in the last year\n",
    "- Frequency of alcohol consumption\n",
    "- Smoking habit\n",
    "- Number of hours spent sitting per day\n",
    "- Diagnosis\n",
    " \n",
    "Output: Diagnosis \n",
    "\n",
    "Dataset source is https://archive.ics.uci.edu/ml/datasets/Fertility\n",
    "\n"
   ]
  },
  {
   "cell_type": "code",
   "execution_count": 4,
   "metadata": {
    "ExecuteTime": {
     "end_time": "2021-02-27T06:32:10.995736Z",
     "start_time": "2021-02-27T06:32:05.680203Z"
    }
   },
   "outputs": [],
   "source": [
    "import pandas as pd\n",
    "import numpy as np\n",
    "import matplotlib.pyplot as plt\n",
    "import seaborn as sns\n",
    "%matplotlib inline\n",
    "sns.set()"
   ]
  },
  {
   "cell_type": "code",
   "execution_count": 5,
   "metadata": {
    "ExecuteTime": {
     "end_time": "2021-02-27T06:32:12.726197Z",
     "start_time": "2021-02-27T06:32:12.700079Z"
    }
   },
   "outputs": [],
   "source": [
    "fert_diag=pd.read_csv(\"fertility_Diagnosis.txt\",header=None)"
   ]
  },
  {
   "cell_type": "code",
   "execution_count": 6,
   "metadata": {
    "ExecuteTime": {
     "end_time": "2021-02-27T06:32:14.295792Z",
     "start_time": "2021-02-27T06:32:14.289726Z"
    }
   },
   "outputs": [],
   "source": [
    "fert_diag.columns=['Season','Age','Childish diseases','Accident or serious trauma',\n",
    "           'Surgical intervention','High fevers in the last year','Frequency of alcohol consumption',\n",
    "           'Smoking habit','Number of hours spent sitting per day','Diagnosis']"
   ]
  },
  {
   "cell_type": "code",
   "execution_count": 7,
   "metadata": {
    "ExecuteTime": {
     "end_time": "2021-02-27T06:32:15.970302Z",
     "start_time": "2021-02-27T06:32:15.921082Z"
    }
   },
   "outputs": [
    {
     "data": {
      "text/html": [
       "<div>\n",
       "<style scoped>\n",
       "    .dataframe tbody tr th:only-of-type {\n",
       "        vertical-align: middle;\n",
       "    }\n",
       "\n",
       "    .dataframe tbody tr th {\n",
       "        vertical-align: top;\n",
       "    }\n",
       "\n",
       "    .dataframe thead th {\n",
       "        text-align: right;\n",
       "    }\n",
       "</style>\n",
       "<table border=\"1\" class=\"dataframe\">\n",
       "  <thead>\n",
       "    <tr style=\"text-align: right;\">\n",
       "      <th></th>\n",
       "      <th>Season</th>\n",
       "      <th>Age</th>\n",
       "      <th>Childish diseases</th>\n",
       "      <th>Accident or serious trauma</th>\n",
       "      <th>Surgical intervention</th>\n",
       "      <th>High fevers in the last year</th>\n",
       "      <th>Frequency of alcohol consumption</th>\n",
       "      <th>Smoking habit</th>\n",
       "      <th>Number of hours spent sitting per day</th>\n",
       "      <th>Diagnosis</th>\n",
       "    </tr>\n",
       "  </thead>\n",
       "  <tbody>\n",
       "    <tr>\n",
       "      <th>0</th>\n",
       "      <td>-0.33</td>\n",
       "      <td>0.69</td>\n",
       "      <td>0</td>\n",
       "      <td>1</td>\n",
       "      <td>1</td>\n",
       "      <td>0</td>\n",
       "      <td>0.8</td>\n",
       "      <td>0</td>\n",
       "      <td>0.88</td>\n",
       "      <td>N</td>\n",
       "    </tr>\n",
       "    <tr>\n",
       "      <th>1</th>\n",
       "      <td>-0.33</td>\n",
       "      <td>0.94</td>\n",
       "      <td>1</td>\n",
       "      <td>0</td>\n",
       "      <td>1</td>\n",
       "      <td>0</td>\n",
       "      <td>0.8</td>\n",
       "      <td>1</td>\n",
       "      <td>0.31</td>\n",
       "      <td>O</td>\n",
       "    </tr>\n",
       "    <tr>\n",
       "      <th>2</th>\n",
       "      <td>-0.33</td>\n",
       "      <td>0.50</td>\n",
       "      <td>1</td>\n",
       "      <td>0</td>\n",
       "      <td>0</td>\n",
       "      <td>0</td>\n",
       "      <td>1.0</td>\n",
       "      <td>-1</td>\n",
       "      <td>0.50</td>\n",
       "      <td>N</td>\n",
       "    </tr>\n",
       "    <tr>\n",
       "      <th>3</th>\n",
       "      <td>-0.33</td>\n",
       "      <td>0.75</td>\n",
       "      <td>0</td>\n",
       "      <td>1</td>\n",
       "      <td>1</td>\n",
       "      <td>0</td>\n",
       "      <td>1.0</td>\n",
       "      <td>-1</td>\n",
       "      <td>0.38</td>\n",
       "      <td>N</td>\n",
       "    </tr>\n",
       "    <tr>\n",
       "      <th>4</th>\n",
       "      <td>-0.33</td>\n",
       "      <td>0.67</td>\n",
       "      <td>1</td>\n",
       "      <td>1</td>\n",
       "      <td>0</td>\n",
       "      <td>0</td>\n",
       "      <td>0.8</td>\n",
       "      <td>-1</td>\n",
       "      <td>0.50</td>\n",
       "      <td>O</td>\n",
       "    </tr>\n",
       "    <tr>\n",
       "      <th>...</th>\n",
       "      <td>...</td>\n",
       "      <td>...</td>\n",
       "      <td>...</td>\n",
       "      <td>...</td>\n",
       "      <td>...</td>\n",
       "      <td>...</td>\n",
       "      <td>...</td>\n",
       "      <td>...</td>\n",
       "      <td>...</td>\n",
       "      <td>...</td>\n",
       "    </tr>\n",
       "    <tr>\n",
       "      <th>95</th>\n",
       "      <td>-1.00</td>\n",
       "      <td>0.67</td>\n",
       "      <td>1</td>\n",
       "      <td>0</td>\n",
       "      <td>0</td>\n",
       "      <td>0</td>\n",
       "      <td>1.0</td>\n",
       "      <td>-1</td>\n",
       "      <td>0.50</td>\n",
       "      <td>N</td>\n",
       "    </tr>\n",
       "    <tr>\n",
       "      <th>96</th>\n",
       "      <td>-1.00</td>\n",
       "      <td>0.61</td>\n",
       "      <td>1</td>\n",
       "      <td>0</td>\n",
       "      <td>0</td>\n",
       "      <td>0</td>\n",
       "      <td>0.8</td>\n",
       "      <td>0</td>\n",
       "      <td>0.50</td>\n",
       "      <td>N</td>\n",
       "    </tr>\n",
       "    <tr>\n",
       "      <th>97</th>\n",
       "      <td>-1.00</td>\n",
       "      <td>0.67</td>\n",
       "      <td>1</td>\n",
       "      <td>1</td>\n",
       "      <td>1</td>\n",
       "      <td>0</td>\n",
       "      <td>1.0</td>\n",
       "      <td>-1</td>\n",
       "      <td>0.31</td>\n",
       "      <td>N</td>\n",
       "    </tr>\n",
       "    <tr>\n",
       "      <th>98</th>\n",
       "      <td>-1.00</td>\n",
       "      <td>0.64</td>\n",
       "      <td>1</td>\n",
       "      <td>0</td>\n",
       "      <td>1</td>\n",
       "      <td>0</td>\n",
       "      <td>1.0</td>\n",
       "      <td>0</td>\n",
       "      <td>0.19</td>\n",
       "      <td>N</td>\n",
       "    </tr>\n",
       "    <tr>\n",
       "      <th>99</th>\n",
       "      <td>-1.00</td>\n",
       "      <td>0.69</td>\n",
       "      <td>0</td>\n",
       "      <td>1</td>\n",
       "      <td>1</td>\n",
       "      <td>0</td>\n",
       "      <td>0.6</td>\n",
       "      <td>-1</td>\n",
       "      <td>0.19</td>\n",
       "      <td>N</td>\n",
       "    </tr>\n",
       "  </tbody>\n",
       "</table>\n",
       "<p>100 rows × 10 columns</p>\n",
       "</div>"
      ],
      "text/plain": [
       "    Season   Age  Childish diseases  Accident or serious trauma  \\\n",
       "0    -0.33  0.69                  0                           1   \n",
       "1    -0.33  0.94                  1                           0   \n",
       "2    -0.33  0.50                  1                           0   \n",
       "3    -0.33  0.75                  0                           1   \n",
       "4    -0.33  0.67                  1                           1   \n",
       "..     ...   ...                ...                         ...   \n",
       "95   -1.00  0.67                  1                           0   \n",
       "96   -1.00  0.61                  1                           0   \n",
       "97   -1.00  0.67                  1                           1   \n",
       "98   -1.00  0.64                  1                           0   \n",
       "99   -1.00  0.69                  0                           1   \n",
       "\n",
       "    Surgical intervention  High fevers in the last year  \\\n",
       "0                       1                             0   \n",
       "1                       1                             0   \n",
       "2                       0                             0   \n",
       "3                       1                             0   \n",
       "4                       0                             0   \n",
       "..                    ...                           ...   \n",
       "95                      0                             0   \n",
       "96                      0                             0   \n",
       "97                      1                             0   \n",
       "98                      1                             0   \n",
       "99                      1                             0   \n",
       "\n",
       "    Frequency of alcohol consumption  Smoking habit  \\\n",
       "0                                0.8              0   \n",
       "1                                0.8              1   \n",
       "2                                1.0             -1   \n",
       "3                                1.0             -1   \n",
       "4                                0.8             -1   \n",
       "..                               ...            ...   \n",
       "95                               1.0             -1   \n",
       "96                               0.8              0   \n",
       "97                               1.0             -1   \n",
       "98                               1.0              0   \n",
       "99                               0.6             -1   \n",
       "\n",
       "    Number of hours spent sitting per day Diagnosis  \n",
       "0                                    0.88         N  \n",
       "1                                    0.31         O  \n",
       "2                                    0.50         N  \n",
       "3                                    0.38         N  \n",
       "4                                    0.50         O  \n",
       "..                                    ...       ...  \n",
       "95                                   0.50         N  \n",
       "96                                   0.50         N  \n",
       "97                                   0.31         N  \n",
       "98                                   0.19         N  \n",
       "99                                   0.19         N  \n",
       "\n",
       "[100 rows x 10 columns]"
      ]
     },
     "execution_count": 7,
     "metadata": {},
     "output_type": "execute_result"
    }
   ],
   "source": [
    "fert_diag"
   ]
  },
  {
   "cell_type": "code",
   "execution_count": 8,
   "metadata": {
    "ExecuteTime": {
     "end_time": "2021-02-27T06:32:18.196758Z",
     "start_time": "2021-02-27T06:32:18.159645Z"
    }
   },
   "outputs": [
    {
     "name": "stdout",
     "output_type": "stream",
     "text": [
      "<class 'pandas.core.frame.DataFrame'>\n",
      "RangeIndex: 100 entries, 0 to 99\n",
      "Data columns (total 10 columns):\n",
      " #   Column                                 Non-Null Count  Dtype  \n",
      "---  ------                                 --------------  -----  \n",
      " 0   Season                                 100 non-null    float64\n",
      " 1   Age                                    100 non-null    float64\n",
      " 2   Childish diseases                      100 non-null    int64  \n",
      " 3   Accident or serious trauma             100 non-null    int64  \n",
      " 4   Surgical intervention                  100 non-null    int64  \n",
      " 5   High fevers in the last year           100 non-null    int64  \n",
      " 6   Frequency of alcohol consumption       100 non-null    float64\n",
      " 7   Smoking habit                          100 non-null    int64  \n",
      " 8   Number of hours spent sitting per day  100 non-null    float64\n",
      " 9   Diagnosis                              100 non-null    object \n",
      "dtypes: float64(4), int64(5), object(1)\n",
      "memory usage: 7.9+ KB\n"
     ]
    }
   ],
   "source": [
    "fert_diag.info()"
   ]
  },
  {
   "cell_type": "code",
   "execution_count": 9,
   "metadata": {
    "ExecuteTime": {
     "end_time": "2021-02-27T06:32:20.284841Z",
     "start_time": "2021-02-27T06:32:20.279400Z"
    }
   },
   "outputs": [],
   "source": [
    "fert_diag[\"Diagnosis\"]=fert_diag[\"Diagnosis\"].astype(\"category\")"
   ]
  },
  {
   "cell_type": "code",
   "execution_count": 10,
   "metadata": {
    "ExecuteTime": {
     "end_time": "2021-02-27T06:32:22.065028Z",
     "start_time": "2021-02-27T06:32:22.059629Z"
    }
   },
   "outputs": [],
   "source": [
    "fert_diag[\"Diagnosis\"]=fert_diag[\"Diagnosis\"].cat.codes"
   ]
  },
  {
   "cell_type": "code",
   "execution_count": 11,
   "metadata": {
    "ExecuteTime": {
     "end_time": "2021-02-27T06:32:24.123560Z",
     "start_time": "2021-02-27T06:32:24.089982Z"
    }
   },
   "outputs": [
    {
     "data": {
      "text/html": [
       "<div>\n",
       "<style scoped>\n",
       "    .dataframe tbody tr th:only-of-type {\n",
       "        vertical-align: middle;\n",
       "    }\n",
       "\n",
       "    .dataframe tbody tr th {\n",
       "        vertical-align: top;\n",
       "    }\n",
       "\n",
       "    .dataframe thead th {\n",
       "        text-align: right;\n",
       "    }\n",
       "</style>\n",
       "<table border=\"1\" class=\"dataframe\">\n",
       "  <thead>\n",
       "    <tr style=\"text-align: right;\">\n",
       "      <th></th>\n",
       "      <th>Season</th>\n",
       "      <th>Age</th>\n",
       "      <th>Childish diseases</th>\n",
       "      <th>Accident or serious trauma</th>\n",
       "      <th>Surgical intervention</th>\n",
       "      <th>High fevers in the last year</th>\n",
       "      <th>Frequency of alcohol consumption</th>\n",
       "      <th>Smoking habit</th>\n",
       "      <th>Number of hours spent sitting per day</th>\n",
       "      <th>Diagnosis</th>\n",
       "    </tr>\n",
       "  </thead>\n",
       "  <tbody>\n",
       "    <tr>\n",
       "      <th>0</th>\n",
       "      <td>-0.33</td>\n",
       "      <td>0.69</td>\n",
       "      <td>0</td>\n",
       "      <td>1</td>\n",
       "      <td>1</td>\n",
       "      <td>0</td>\n",
       "      <td>0.8</td>\n",
       "      <td>0</td>\n",
       "      <td>0.88</td>\n",
       "      <td>0</td>\n",
       "    </tr>\n",
       "    <tr>\n",
       "      <th>1</th>\n",
       "      <td>-0.33</td>\n",
       "      <td>0.94</td>\n",
       "      <td>1</td>\n",
       "      <td>0</td>\n",
       "      <td>1</td>\n",
       "      <td>0</td>\n",
       "      <td>0.8</td>\n",
       "      <td>1</td>\n",
       "      <td>0.31</td>\n",
       "      <td>1</td>\n",
       "    </tr>\n",
       "    <tr>\n",
       "      <th>2</th>\n",
       "      <td>-0.33</td>\n",
       "      <td>0.50</td>\n",
       "      <td>1</td>\n",
       "      <td>0</td>\n",
       "      <td>0</td>\n",
       "      <td>0</td>\n",
       "      <td>1.0</td>\n",
       "      <td>-1</td>\n",
       "      <td>0.50</td>\n",
       "      <td>0</td>\n",
       "    </tr>\n",
       "    <tr>\n",
       "      <th>3</th>\n",
       "      <td>-0.33</td>\n",
       "      <td>0.75</td>\n",
       "      <td>0</td>\n",
       "      <td>1</td>\n",
       "      <td>1</td>\n",
       "      <td>0</td>\n",
       "      <td>1.0</td>\n",
       "      <td>-1</td>\n",
       "      <td>0.38</td>\n",
       "      <td>0</td>\n",
       "    </tr>\n",
       "    <tr>\n",
       "      <th>4</th>\n",
       "      <td>-0.33</td>\n",
       "      <td>0.67</td>\n",
       "      <td>1</td>\n",
       "      <td>1</td>\n",
       "      <td>0</td>\n",
       "      <td>0</td>\n",
       "      <td>0.8</td>\n",
       "      <td>-1</td>\n",
       "      <td>0.50</td>\n",
       "      <td>1</td>\n",
       "    </tr>\n",
       "    <tr>\n",
       "      <th>...</th>\n",
       "      <td>...</td>\n",
       "      <td>...</td>\n",
       "      <td>...</td>\n",
       "      <td>...</td>\n",
       "      <td>...</td>\n",
       "      <td>...</td>\n",
       "      <td>...</td>\n",
       "      <td>...</td>\n",
       "      <td>...</td>\n",
       "      <td>...</td>\n",
       "    </tr>\n",
       "    <tr>\n",
       "      <th>95</th>\n",
       "      <td>-1.00</td>\n",
       "      <td>0.67</td>\n",
       "      <td>1</td>\n",
       "      <td>0</td>\n",
       "      <td>0</td>\n",
       "      <td>0</td>\n",
       "      <td>1.0</td>\n",
       "      <td>-1</td>\n",
       "      <td>0.50</td>\n",
       "      <td>0</td>\n",
       "    </tr>\n",
       "    <tr>\n",
       "      <th>96</th>\n",
       "      <td>-1.00</td>\n",
       "      <td>0.61</td>\n",
       "      <td>1</td>\n",
       "      <td>0</td>\n",
       "      <td>0</td>\n",
       "      <td>0</td>\n",
       "      <td>0.8</td>\n",
       "      <td>0</td>\n",
       "      <td>0.50</td>\n",
       "      <td>0</td>\n",
       "    </tr>\n",
       "    <tr>\n",
       "      <th>97</th>\n",
       "      <td>-1.00</td>\n",
       "      <td>0.67</td>\n",
       "      <td>1</td>\n",
       "      <td>1</td>\n",
       "      <td>1</td>\n",
       "      <td>0</td>\n",
       "      <td>1.0</td>\n",
       "      <td>-1</td>\n",
       "      <td>0.31</td>\n",
       "      <td>0</td>\n",
       "    </tr>\n",
       "    <tr>\n",
       "      <th>98</th>\n",
       "      <td>-1.00</td>\n",
       "      <td>0.64</td>\n",
       "      <td>1</td>\n",
       "      <td>0</td>\n",
       "      <td>1</td>\n",
       "      <td>0</td>\n",
       "      <td>1.0</td>\n",
       "      <td>0</td>\n",
       "      <td>0.19</td>\n",
       "      <td>0</td>\n",
       "    </tr>\n",
       "    <tr>\n",
       "      <th>99</th>\n",
       "      <td>-1.00</td>\n",
       "      <td>0.69</td>\n",
       "      <td>0</td>\n",
       "      <td>1</td>\n",
       "      <td>1</td>\n",
       "      <td>0</td>\n",
       "      <td>0.6</td>\n",
       "      <td>-1</td>\n",
       "      <td>0.19</td>\n",
       "      <td>0</td>\n",
       "    </tr>\n",
       "  </tbody>\n",
       "</table>\n",
       "<p>100 rows × 10 columns</p>\n",
       "</div>"
      ],
      "text/plain": [
       "    Season   Age  Childish diseases  Accident or serious trauma  \\\n",
       "0    -0.33  0.69                  0                           1   \n",
       "1    -0.33  0.94                  1                           0   \n",
       "2    -0.33  0.50                  1                           0   \n",
       "3    -0.33  0.75                  0                           1   \n",
       "4    -0.33  0.67                  1                           1   \n",
       "..     ...   ...                ...                         ...   \n",
       "95   -1.00  0.67                  1                           0   \n",
       "96   -1.00  0.61                  1                           0   \n",
       "97   -1.00  0.67                  1                           1   \n",
       "98   -1.00  0.64                  1                           0   \n",
       "99   -1.00  0.69                  0                           1   \n",
       "\n",
       "    Surgical intervention  High fevers in the last year  \\\n",
       "0                       1                             0   \n",
       "1                       1                             0   \n",
       "2                       0                             0   \n",
       "3                       1                             0   \n",
       "4                       0                             0   \n",
       "..                    ...                           ...   \n",
       "95                      0                             0   \n",
       "96                      0                             0   \n",
       "97                      1                             0   \n",
       "98                      1                             0   \n",
       "99                      1                             0   \n",
       "\n",
       "    Frequency of alcohol consumption  Smoking habit  \\\n",
       "0                                0.8              0   \n",
       "1                                0.8              1   \n",
       "2                                1.0             -1   \n",
       "3                                1.0             -1   \n",
       "4                                0.8             -1   \n",
       "..                               ...            ...   \n",
       "95                               1.0             -1   \n",
       "96                               0.8              0   \n",
       "97                               1.0             -1   \n",
       "98                               1.0              0   \n",
       "99                               0.6             -1   \n",
       "\n",
       "    Number of hours spent sitting per day  Diagnosis  \n",
       "0                                    0.88          0  \n",
       "1                                    0.31          1  \n",
       "2                                    0.50          0  \n",
       "3                                    0.38          0  \n",
       "4                                    0.50          1  \n",
       "..                                    ...        ...  \n",
       "95                                   0.50          0  \n",
       "96                                   0.50          0  \n",
       "97                                   0.31          0  \n",
       "98                                   0.19          0  \n",
       "99                                   0.19          0  \n",
       "\n",
       "[100 rows x 10 columns]"
      ]
     },
     "execution_count": 11,
     "metadata": {},
     "output_type": "execute_result"
    }
   ],
   "source": [
    "fert_diag"
   ]
  },
  {
   "cell_type": "code",
   "execution_count": 12,
   "metadata": {
    "ExecuteTime": {
     "end_time": "2021-02-27T06:32:27.802979Z",
     "start_time": "2021-02-27T06:32:27.779055Z"
    }
   },
   "outputs": [
    {
     "name": "stdout",
     "output_type": "stream",
     "text": [
      "<class 'pandas.core.frame.DataFrame'>\n",
      "RangeIndex: 100 entries, 0 to 99\n",
      "Data columns (total 10 columns):\n",
      " #   Column                                 Non-Null Count  Dtype  \n",
      "---  ------                                 --------------  -----  \n",
      " 0   Season                                 100 non-null    float64\n",
      " 1   Age                                    100 non-null    float64\n",
      " 2   Childish diseases                      100 non-null    int64  \n",
      " 3   Accident or serious trauma             100 non-null    int64  \n",
      " 4   Surgical intervention                  100 non-null    int64  \n",
      " 5   High fevers in the last year           100 non-null    int64  \n",
      " 6   Frequency of alcohol consumption       100 non-null    float64\n",
      " 7   Smoking habit                          100 non-null    int64  \n",
      " 8   Number of hours spent sitting per day  100 non-null    float64\n",
      " 9   Diagnosis                              100 non-null    int8   \n",
      "dtypes: float64(4), int64(5), int8(1)\n",
      "memory usage: 7.3 KB\n"
     ]
    }
   ],
   "source": [
    "fert_diag.info()"
   ]
  },
  {
   "cell_type": "code",
   "execution_count": 13,
   "metadata": {
    "ExecuteTime": {
     "end_time": "2021-02-27T06:32:29.824359Z",
     "start_time": "2021-02-27T06:32:29.819520Z"
    }
   },
   "outputs": [],
   "source": [
    "df=fert_diag.iloc[:,:-1]"
   ]
  },
  {
   "cell_type": "code",
   "execution_count": 14,
   "metadata": {
    "ExecuteTime": {
     "end_time": "2021-02-27T06:32:34.724635Z",
     "start_time": "2021-02-27T06:32:34.709097Z"
    }
   },
   "outputs": [
    {
     "data": {
      "text/html": [
       "<div>\n",
       "<style scoped>\n",
       "    .dataframe tbody tr th:only-of-type {\n",
       "        vertical-align: middle;\n",
       "    }\n",
       "\n",
       "    .dataframe tbody tr th {\n",
       "        vertical-align: top;\n",
       "    }\n",
       "\n",
       "    .dataframe thead th {\n",
       "        text-align: right;\n",
       "    }\n",
       "</style>\n",
       "<table border=\"1\" class=\"dataframe\">\n",
       "  <thead>\n",
       "    <tr style=\"text-align: right;\">\n",
       "      <th></th>\n",
       "      <th>Season</th>\n",
       "      <th>Age</th>\n",
       "      <th>Childish diseases</th>\n",
       "      <th>Accident or serious trauma</th>\n",
       "      <th>Surgical intervention</th>\n",
       "      <th>High fevers in the last year</th>\n",
       "      <th>Frequency of alcohol consumption</th>\n",
       "      <th>Smoking habit</th>\n",
       "      <th>Number of hours spent sitting per day</th>\n",
       "    </tr>\n",
       "  </thead>\n",
       "  <tbody>\n",
       "    <tr>\n",
       "      <th>0</th>\n",
       "      <td>-0.33</td>\n",
       "      <td>0.69</td>\n",
       "      <td>0</td>\n",
       "      <td>1</td>\n",
       "      <td>1</td>\n",
       "      <td>0</td>\n",
       "      <td>0.8</td>\n",
       "      <td>0</td>\n",
       "      <td>0.88</td>\n",
       "    </tr>\n",
       "    <tr>\n",
       "      <th>1</th>\n",
       "      <td>-0.33</td>\n",
       "      <td>0.94</td>\n",
       "      <td>1</td>\n",
       "      <td>0</td>\n",
       "      <td>1</td>\n",
       "      <td>0</td>\n",
       "      <td>0.8</td>\n",
       "      <td>1</td>\n",
       "      <td>0.31</td>\n",
       "    </tr>\n",
       "    <tr>\n",
       "      <th>2</th>\n",
       "      <td>-0.33</td>\n",
       "      <td>0.50</td>\n",
       "      <td>1</td>\n",
       "      <td>0</td>\n",
       "      <td>0</td>\n",
       "      <td>0</td>\n",
       "      <td>1.0</td>\n",
       "      <td>-1</td>\n",
       "      <td>0.50</td>\n",
       "    </tr>\n",
       "    <tr>\n",
       "      <th>3</th>\n",
       "      <td>-0.33</td>\n",
       "      <td>0.75</td>\n",
       "      <td>0</td>\n",
       "      <td>1</td>\n",
       "      <td>1</td>\n",
       "      <td>0</td>\n",
       "      <td>1.0</td>\n",
       "      <td>-1</td>\n",
       "      <td>0.38</td>\n",
       "    </tr>\n",
       "    <tr>\n",
       "      <th>4</th>\n",
       "      <td>-0.33</td>\n",
       "      <td>0.67</td>\n",
       "      <td>1</td>\n",
       "      <td>1</td>\n",
       "      <td>0</td>\n",
       "      <td>0</td>\n",
       "      <td>0.8</td>\n",
       "      <td>-1</td>\n",
       "      <td>0.50</td>\n",
       "    </tr>\n",
       "  </tbody>\n",
       "</table>\n",
       "</div>"
      ],
      "text/plain": [
       "   Season   Age  Childish diseases  Accident or serious trauma  \\\n",
       "0   -0.33  0.69                  0                           1   \n",
       "1   -0.33  0.94                  1                           0   \n",
       "2   -0.33  0.50                  1                           0   \n",
       "3   -0.33  0.75                  0                           1   \n",
       "4   -0.33  0.67                  1                           1   \n",
       "\n",
       "   Surgical intervention  High fevers in the last year  \\\n",
       "0                      1                             0   \n",
       "1                      1                             0   \n",
       "2                      0                             0   \n",
       "3                      1                             0   \n",
       "4                      0                             0   \n",
       "\n",
       "   Frequency of alcohol consumption  Smoking habit  \\\n",
       "0                               0.8              0   \n",
       "1                               0.8              1   \n",
       "2                               1.0             -1   \n",
       "3                               1.0             -1   \n",
       "4                               0.8             -1   \n",
       "\n",
       "   Number of hours spent sitting per day  \n",
       "0                                   0.88  \n",
       "1                                   0.31  \n",
       "2                                   0.50  \n",
       "3                                   0.38  \n",
       "4                                   0.50  "
      ]
     },
     "execution_count": 14,
     "metadata": {},
     "output_type": "execute_result"
    }
   ],
   "source": [
    "df.head()"
   ]
  },
  {
   "cell_type": "code",
   "execution_count": 15,
   "metadata": {
    "ExecuteTime": {
     "end_time": "2021-02-27T06:32:38.826602Z",
     "start_time": "2021-02-27T06:32:38.819445Z"
    }
   },
   "outputs": [
    {
     "data": {
      "text/plain": [
       "(100, 9)"
      ]
     },
     "execution_count": 15,
     "metadata": {},
     "output_type": "execute_result"
    }
   ],
   "source": [
    "df.shape"
   ]
  },
  {
   "cell_type": "code",
   "execution_count": 16,
   "metadata": {
    "ExecuteTime": {
     "end_time": "2021-02-27T06:32:41.792466Z",
     "start_time": "2021-02-27T06:32:41.788899Z"
    }
   },
   "outputs": [],
   "source": [
    "tf=fert_diag.Diagnosis"
   ]
  },
  {
   "cell_type": "code",
   "execution_count": 17,
   "metadata": {
    "ExecuteTime": {
     "end_time": "2021-02-27T06:32:43.828402Z",
     "start_time": "2021-02-27T06:32:43.819423Z"
    }
   },
   "outputs": [
    {
     "data": {
      "text/plain": [
       "0     0\n",
       "1     1\n",
       "2     0\n",
       "3     0\n",
       "4     1\n",
       "     ..\n",
       "95    0\n",
       "96    0\n",
       "97    0\n",
       "98    0\n",
       "99    0\n",
       "Name: Diagnosis, Length: 100, dtype: int8"
      ]
     },
     "execution_count": 17,
     "metadata": {},
     "output_type": "execute_result"
    }
   ],
   "source": [
    "tf"
   ]
  },
  {
   "cell_type": "code",
   "execution_count": 18,
   "metadata": {
    "ExecuteTime": {
     "end_time": "2021-02-27T06:32:46.617716Z",
     "start_time": "2021-02-27T06:32:46.609085Z"
    }
   },
   "outputs": [
    {
     "data": {
      "text/plain": [
       "(100,)"
      ]
     },
     "execution_count": 18,
     "metadata": {},
     "output_type": "execute_result"
    }
   ],
   "source": [
    "tf.shape"
   ]
  },
  {
   "cell_type": "markdown",
   "metadata": {},
   "source": [
    "### Converting dataframe into numpy array and extracting features(data) and labels(targets) from it"
   ]
  },
  {
   "cell_type": "code",
   "execution_count": 19,
   "metadata": {
    "ExecuteTime": {
     "end_time": "2021-02-27T06:32:50.284141Z",
     "start_time": "2021-02-27T06:32:50.278392Z"
    }
   },
   "outputs": [],
   "source": [
    "X=df.to_numpy()"
   ]
  },
  {
   "cell_type": "code",
   "execution_count": 20,
   "metadata": {
    "ExecuteTime": {
     "end_time": "2021-02-27T06:32:52.276736Z",
     "start_time": "2021-02-27T06:32:52.269160Z"
    }
   },
   "outputs": [
    {
     "data": {
      "text/plain": [
       "(100, 9)"
      ]
     },
     "execution_count": 20,
     "metadata": {},
     "output_type": "execute_result"
    }
   ],
   "source": [
    "X.shape"
   ]
  },
  {
   "cell_type": "code",
   "execution_count": 21,
   "metadata": {
    "ExecuteTime": {
     "end_time": "2021-02-27T06:32:57.762091Z",
     "start_time": "2021-02-27T06:32:57.758065Z"
    }
   },
   "outputs": [],
   "source": [
    "y=tf.to_numpy()"
   ]
  },
  {
   "cell_type": "code",
   "execution_count": 22,
   "metadata": {
    "ExecuteTime": {
     "end_time": "2021-02-27T06:33:00.156569Z",
     "start_time": "2021-02-27T06:33:00.148655Z"
    }
   },
   "outputs": [
    {
     "data": {
      "text/plain": [
       "(100,)"
      ]
     },
     "execution_count": 22,
     "metadata": {},
     "output_type": "execute_result"
    }
   ],
   "source": [
    "y.shape"
   ]
  },
  {
   "cell_type": "markdown",
   "metadata": {},
   "source": [
    "## Classification task starts here"
   ]
  },
  {
   "cell_type": "markdown",
   "metadata": {},
   "source": [
    "Considering the fact that the number of observations or instances are few (i.e. 100),I resorted to using sklearn algorithm cheatsheet for guide on the possible models to use in this analysis."
   ]
  },
  {
   "cell_type": "markdown",
   "metadata": {
    "ExecuteTime": {
     "end_time": "2021-03-11T01:14:02.867126Z",
     "start_time": "2021-03-11T01:14:02.858719Z"
    }
   },
   "source": [
    " <img src=\"sklearnalgochsheet.png\" width=900px>"
   ]
  },
  {
   "cell_type": "markdown",
   "metadata": {},
   "source": [
    "### Dealing with imbalance in the dataset before classification task"
   ]
  },
  {
   "cell_type": "code",
   "execution_count": 23,
   "metadata": {
    "ExecuteTime": {
     "end_time": "2021-02-27T06:33:05.198408Z",
     "start_time": "2021-02-27T06:33:05.188939Z"
    }
   },
   "outputs": [
    {
     "data": {
      "text/plain": [
       "(array([0, 1], dtype=int8), array([88, 12]))"
      ]
     },
     "execution_count": 23,
     "metadata": {},
     "output_type": "execute_result"
    }
   ],
   "source": [
    "np.unique(y,return_counts=True) # it is evident that there is imbalance in the dataset"
   ]
  },
  {
   "cell_type": "code",
   "execution_count": 24,
   "metadata": {
    "ExecuteTime": {
     "end_time": "2021-02-27T06:33:07.884964Z",
     "start_time": "2021-02-27T06:33:07.877603Z"
    }
   },
   "outputs": [
    {
     "data": {
      "text/plain": [
       "(88, 12)"
      ]
     },
     "execution_count": 24,
     "metadata": {},
     "output_type": "execute_result"
    }
   ],
   "source": [
    "len(y[y==0]),len(y[y==1])"
   ]
  },
  {
   "cell_type": "code",
   "execution_count": 25,
   "metadata": {
    "ExecuteTime": {
     "end_time": "2021-02-27T06:33:10.723383Z",
     "start_time": "2021-02-27T06:33:10.717949Z"
    }
   },
   "outputs": [],
   "source": [
    "## Dealing with imbalance\n",
    "from imblearn.over_sampling import SMOTE,ADASYN,RandomOverSampler"
   ]
  },
  {
   "cell_type": "code",
   "execution_count": 26,
   "metadata": {
    "ExecuteTime": {
     "end_time": "2021-02-27T06:33:12.525184Z",
     "start_time": "2021-02-27T06:33:12.519208Z"
    }
   },
   "outputs": [],
   "source": [
    "smote=SMOTE()"
   ]
  },
  {
   "cell_type": "code",
   "execution_count": 27,
   "metadata": {
    "ExecuteTime": {
     "end_time": "2021-02-27T06:33:14.122447Z",
     "start_time": "2021-02-27T06:33:14.068416Z"
    }
   },
   "outputs": [],
   "source": [
    "X_resampled,y_resampled=smote.fit_resample(X,y)"
   ]
  },
  {
   "cell_type": "code",
   "execution_count": 28,
   "metadata": {
    "ExecuteTime": {
     "end_time": "2021-02-27T06:33:15.913731Z",
     "start_time": "2021-02-27T06:33:15.907274Z"
    }
   },
   "outputs": [
    {
     "data": {
      "text/plain": [
       "((176,), (176, 9))"
      ]
     },
     "execution_count": 28,
     "metadata": {},
     "output_type": "execute_result"
    }
   ],
   "source": [
    "y_resampled.shape,X_resampled.shape"
   ]
  },
  {
   "cell_type": "code",
   "execution_count": null,
   "metadata": {
    "ExecuteTime": {
     "end_time": "2021-02-23T09:21:51.283254Z",
     "start_time": "2021-02-23T09:21:51.273273Z"
    }
   },
   "outputs": [],
   "source": [
    "#sns.pairplot(fert_diag)"
   ]
  },
  {
   "cell_type": "code",
   "execution_count": null,
   "metadata": {
    "ExecuteTime": {
     "end_time": "2021-02-23T09:21:51.295789Z",
     "start_time": "2021-02-23T09:21:51.287307Z"
    }
   },
   "outputs": [],
   "source": [
    "#plt.scatter(X_resampled[:,0],X_resampled[:,1],c=y_resampled,cmap=\"viridis\")"
   ]
  },
  {
   "cell_type": "markdown",
   "metadata": {},
   "source": [
    "### Determining what classification model would be required for the best outcomes"
   ]
  },
  {
   "cell_type": "code",
   "execution_count": 115,
   "metadata": {
    "ExecuteTime": {
     "end_time": "2021-02-27T07:59:25.049125Z",
     "start_time": "2021-02-27T07:59:25.041620Z"
    }
   },
   "outputs": [],
   "source": [
    "from sklearn.svm import SVC\n",
    "from sklearn.model_selection import GridSearchCV,train_test_split,cross_val_score\n",
    "from sklearn.linear_model import LogisticRegression\n",
    "from sklearn.tree import DecisionTreeClassifier,ExtraTreeClassifier\n",
    "from sklearn.ensemble import RandomForestClassifier,GradientBoostingClassifier,AdaBoostClassifier\n",
    "from sklearn.neighbors import KNeighborsClassifier\n",
    "from imblearn.pipeline import make_pipeline,Pipeline\n",
    "from sklearn.metrics import confusion_matrix,classification_report\n",
    "from sklearn.preprocessing import StandardScaler,MinMaxScaler"
   ]
  },
  {
   "cell_type": "code",
   "execution_count": 116,
   "metadata": {
    "ExecuteTime": {
     "end_time": "2021-02-27T07:59:27.238217Z",
     "start_time": "2021-02-27T07:59:27.230104Z"
    }
   },
   "outputs": [],
   "source": [
    "X_train,X_test,y_train,y_test=train_test_split(X_resampled,y_resampled,random_state=0,test_size=.2)"
   ]
  },
  {
   "cell_type": "code",
   "execution_count": 117,
   "metadata": {
    "ExecuteTime": {
     "end_time": "2021-02-27T07:59:28.947990Z",
     "start_time": "2021-02-27T07:59:28.938551Z"
    }
   },
   "outputs": [
    {
     "data": {
      "text/plain": [
       "array([0, 1, 0, 1, 0, 0, 0, 1, 1, 1, 1, 0, 1, 0, 1, 1, 0, 1, 0, 1, 1, 1,\n",
       "       0, 1, 1, 1, 1, 1, 0, 1, 0, 0, 0, 0, 0, 0, 0, 0, 0, 0, 1, 1, 1, 0,\n",
       "       1, 1, 0, 1, 1, 0, 1, 1, 0, 0, 0, 0, 0, 1, 1, 1, 0, 0, 0, 0, 1, 0,\n",
       "       0, 1, 1, 0, 0, 0, 1, 1, 0, 1, 1, 0, 0, 0, 1, 0, 0, 1, 1, 0, 0, 0,\n",
       "       1, 0, 1, 1, 1, 0, 1, 1, 1, 1, 1, 0, 1, 1, 0, 0, 1, 0, 1, 1, 1, 0,\n",
       "       1, 1, 1, 1, 0, 0, 0, 1, 1, 1, 0, 0, 0, 0, 1, 1, 0, 0, 1, 0, 1, 0,\n",
       "       0, 0, 0, 1, 0, 1, 0, 1], dtype=int8)"
      ]
     },
     "execution_count": 117,
     "metadata": {},
     "output_type": "execute_result"
    }
   ],
   "source": [
    "y_train"
   ]
  },
  {
   "cell_type": "code",
   "execution_count": 118,
   "metadata": {
    "ExecuteTime": {
     "end_time": "2021-02-27T07:59:30.757388Z",
     "start_time": "2021-02-27T07:59:30.749097Z"
    }
   },
   "outputs": [
    {
     "data": {
      "text/plain": [
       "array([0, 1, 0, 0, 1, 1, 0, 1, 1, 0, 1, 1, 0, 0, 1, 1, 0, 0, 0, 0, 0, 0,\n",
       "       1, 1, 0, 1, 1, 1, 1, 1, 1, 0, 1, 0, 0, 0], dtype=int8)"
      ]
     },
     "execution_count": 118,
     "metadata": {},
     "output_type": "execute_result"
    }
   ],
   "source": [
    "y_test"
   ]
  },
  {
   "cell_type": "code",
   "execution_count": 119,
   "metadata": {
    "ExecuteTime": {
     "end_time": "2021-02-27T07:59:33.936677Z",
     "start_time": "2021-02-27T07:59:33.928929Z"
    }
   },
   "outputs": [
    {
     "data": {
      "text/plain": [
       "((140, 9), (36, 9), (140,), (36,))"
      ]
     },
     "execution_count": 119,
     "metadata": {},
     "output_type": "execute_result"
    }
   ],
   "source": [
    "X_train.shape,X_test.shape,y_train.shape,y_test.shape"
   ]
  },
  {
   "cell_type": "code",
   "execution_count": 120,
   "metadata": {
    "ExecuteTime": {
     "end_time": "2021-02-27T07:59:38.106798Z",
     "start_time": "2021-02-27T07:59:38.099735Z"
    }
   },
   "outputs": [],
   "source": [
    "logr=LogisticRegression()\n",
    "svc=SVC(kernel='linear')\n",
    "kn=KNeighborsClassifier()\n",
    "dt=DecisionTreeClassifier()\n",
    "et=ExtraTreeClassifier()\n",
    "rf=RandomForestClassifier()\n",
    "gb=GradientBoostingClassifier()\n",
    "ab=AdaBoostClassifier()"
   ]
  },
  {
   "cell_type": "code",
   "execution_count": 121,
   "metadata": {
    "ExecuteTime": {
     "end_time": "2021-02-27T07:59:42.560961Z",
     "start_time": "2021-02-27T07:59:40.919837Z"
    }
   },
   "outputs": [
    {
     "name": "stdout",
     "output_type": "stream",
     "text": [
      " logr ----> 0.6785714285714286\n",
      " svc ----> 0.7\n",
      " kn ----> 0.7928571428571429\n",
      " dt ----> 0.8714285714285716\n",
      " et ----> 0.8285714285714285\n",
      " rf ----> 0.9142857142857144\n",
      " gb ----> 0.8857142857142858\n",
      " ab ----> 0.8785714285714287\n"
     ]
    }
   ],
   "source": [
    "# cross-validation of unscaled and unbalanced dataset\n",
    "print(f\" logr ----> {cross_val_score(logr,X_train,y_train).mean()}\")\n",
    "print(f\" svc ----> {cross_val_score(svc,X_train,y_train).mean()}\")\n",
    "print(f\" kn ----> {cross_val_score(kn,X_train,y_train).mean()}\")\n",
    "print(f\" dt ----> {cross_val_score(dt,X_train,y_train).mean()}\")\n",
    "print(f\" et ----> {cross_val_score(et,X_train,y_train).mean()}\")\n",
    "print(f\" rf ----> {cross_val_score(rf,X_train,y_train).mean()}\")\n",
    "print(f\" gb ----> {cross_val_score(gb,X_train,y_train).mean()}\")\n",
    "print(f\" ab ----> {cross_val_score(ab,X_train,y_train).mean()}\")"
   ]
  },
  {
   "cell_type": "code",
   "execution_count": 122,
   "metadata": {
    "ExecuteTime": {
     "end_time": "2021-02-27T07:59:46.702156Z",
     "start_time": "2021-02-27T07:59:44.917796Z"
    }
   },
   "outputs": [
    {
     "name": "stdout",
     "output_type": "stream",
     "text": [
      "logr ----> 0.6785714285714286\n",
      "svc ----> 0.7\n",
      "kn ----> 0.7928571428571429\n",
      "dt ----> 0.8642857142857144\n",
      "et ----> 0.8357142857142857\n",
      "rf ----> 0.9142857142857143\n",
      "gb ----> 0.8928571428571429\n",
      "ab ----> 0.8785714285714287\n"
     ]
    },
    {
     "data": {
      "text/plain": [
       "[None, None, None, None, None, None, None, None]"
      ]
     },
     "execution_count": 122,
     "metadata": {},
     "output_type": "execute_result"
    }
   ],
   "source": [
    "[print(f\"{c} ----> {cross_val_score(i,X_train,y_train).mean()}\") for c,i in zip(['logr','svc','kn','dt','et','rf','gb','ab'],[logr,svc,kn,dt,et,rf,gb,ab])]"
   ]
  },
  {
   "cell_type": "code",
   "execution_count": 123,
   "metadata": {
    "ExecuteTime": {
     "end_time": "2021-02-27T07:59:49.563942Z",
     "start_time": "2021-02-27T07:59:49.558257Z"
    }
   },
   "outputs": [],
   "source": [
    "pipe=Pipeline([('classifier',rf)])"
   ]
  },
  {
   "cell_type": "code",
   "execution_count": 124,
   "metadata": {
    "ExecuteTime": {
     "end_time": "2021-02-27T07:59:52.215649Z",
     "start_time": "2021-02-27T07:59:52.207882Z"
    }
   },
   "outputs": [],
   "source": [
    "params = [\n",
    "{'classifier': [gb],\n",
    " 'classifier__max_depth': [1,2,3,4,5,6],\n",
    " 'classifier__learning_rate': [0.001, 0.01, 0.1, 1, 10]},\n",
    "{'classifier': [rf],\n",
    " 'classifier__max_depth': [1,2,3,4,5,6]},\n",
    "{'classifier':[ab],\n",
    " 'classifier__learning_rate': [0.001, 0.01, 0.1, 1, 10]}]"
   ]
  },
  {
   "cell_type": "code",
   "execution_count": 125,
   "metadata": {
    "ExecuteTime": {
     "end_time": "2021-02-27T07:59:55.403801Z",
     "start_time": "2021-02-27T07:59:55.398427Z"
    }
   },
   "outputs": [],
   "source": [
    "grid=GridSearchCV(pipe,param_grid=params,cv=5,n_jobs=-1,)"
   ]
  },
  {
   "cell_type": "code",
   "execution_count": 126,
   "metadata": {
    "ExecuteTime": {
     "end_time": "2021-02-27T08:00:11.162260Z",
     "start_time": "2021-02-27T08:00:00.298357Z"
    }
   },
   "outputs": [
    {
     "data": {
      "text/plain": [
       "GridSearchCV(cv=5,\n",
       "             estimator=Pipeline(steps=[('classifier',\n",
       "                                        RandomForestClassifier(max_depth=5))]),\n",
       "             n_jobs=-1,\n",
       "             param_grid=[{'classifier': [GradientBoostingClassifier()],\n",
       "                          'classifier__learning_rate': [0.001, 0.01, 0.1, 1,\n",
       "                                                        10],\n",
       "                          'classifier__max_depth': [1, 2, 3, 4, 5, 6]},\n",
       "                         {'classifier': [RandomForestClassifier(max_depth=5)],\n",
       "                          'classifier__max_depth': [1, 2, 3, 4, 5, 6]},\n",
       "                         {'classifier': [AdaBoostClassifier()],\n",
       "                          'classifier__learning_rate': [0.001, 0.01, 0.1, 1,\n",
       "                                                        10]}])"
      ]
     },
     "execution_count": 126,
     "metadata": {},
     "output_type": "execute_result"
    }
   ],
   "source": [
    "grid.fit(X_train,y_train)"
   ]
  },
  {
   "cell_type": "code",
   "execution_count": 127,
   "metadata": {
    "ExecuteTime": {
     "end_time": "2021-02-27T08:00:14.057897Z",
     "start_time": "2021-02-27T08:00:14.008956Z"
    }
   },
   "outputs": [
    {
     "name": "stdout",
     "output_type": "stream",
     "text": [
      "Best params:\n",
      "{'classifier': RandomForestClassifier(max_depth=5), 'classifier__max_depth': 5}\n",
      "\n",
      "Best cross-validation score: 0.914\n",
      "Test-set score: 0.917\n",
      "Train-set score: 1.000\n"
     ]
    }
   ],
   "source": [
    "print(\"Best params:\\n{}\\n\".format(grid.best_params_))\n",
    "print(\"Best cross-validation score: {:.3f}\".format(grid.best_score_))\n",
    "print(\"Test-set score: {:.3f}\".format(grid.score(X_test, y_test)))\n",
    "print(\"Train-set score: {:.3f}\".format(grid.score(X_train, y_train)))"
   ]
  },
  {
   "cell_type": "code",
   "execution_count": 137,
   "metadata": {
    "ExecuteTime": {
     "end_time": "2021-02-27T08:01:41.131648Z",
     "start_time": "2021-02-27T08:01:41.126589Z"
    }
   },
   "outputs": [],
   "source": [
    "# the best model appears to be rf(Random Forest) with the following parameters\n",
    "rf_best=RandomForestClassifier(max_depth=2,random_state=0)"
   ]
  },
  {
   "cell_type": "code",
   "execution_count": 138,
   "metadata": {
    "ExecuteTime": {
     "end_time": "2021-02-27T08:01:43.947985Z",
     "start_time": "2021-02-27T08:01:43.757088Z"
    }
   },
   "outputs": [
    {
     "data": {
      "text/plain": [
       "RandomForestClassifier(max_depth=2, random_state=0)"
      ]
     },
     "execution_count": 138,
     "metadata": {},
     "output_type": "execute_result"
    }
   ],
   "source": [
    "rf_best.fit(X_train,y_train)"
   ]
  },
  {
   "cell_type": "code",
   "execution_count": 139,
   "metadata": {
    "ExecuteTime": {
     "end_time": "2021-02-27T08:01:46.869789Z",
     "start_time": "2021-02-27T08:01:46.837618Z"
    }
   },
   "outputs": [
    {
     "data": {
      "text/plain": [
       "0.9142857142857143"
      ]
     },
     "execution_count": 139,
     "metadata": {},
     "output_type": "execute_result"
    }
   ],
   "source": [
    "rf_best.score(X_train,y_train)"
   ]
  },
  {
   "cell_type": "code",
   "execution_count": 140,
   "metadata": {
    "ExecuteTime": {
     "end_time": "2021-02-27T08:02:51.073928Z",
     "start_time": "2021-02-27T08:02:51.045270Z"
    }
   },
   "outputs": [
    {
     "data": {
      "text/plain": [
       "0.9166666666666666"
      ]
     },
     "execution_count": 140,
     "metadata": {},
     "output_type": "execute_result"
    }
   ],
   "source": [
    "rf_best.score(X_test,y_test)"
   ]
  },
  {
   "cell_type": "code",
   "execution_count": null,
   "metadata": {},
   "outputs": [],
   "source": []
  },
  {
   "cell_type": "code",
   "execution_count": 141,
   "metadata": {
    "ExecuteTime": {
     "end_time": "2021-02-27T08:05:05.596912Z",
     "start_time": "2021-02-27T08:05:05.567859Z"
    }
   },
   "outputs": [],
   "source": [
    "y_pred=rf_best.predict(X_test)"
   ]
  },
  {
   "cell_type": "code",
   "execution_count": 142,
   "metadata": {
    "ExecuteTime": {
     "end_time": "2021-02-27T08:05:10.620717Z",
     "start_time": "2021-02-27T08:05:10.612551Z"
    }
   },
   "outputs": [
    {
     "data": {
      "text/plain": [
       "(array([False,  True]), array([ 3, 33]))"
      ]
     },
     "execution_count": 142,
     "metadata": {},
     "output_type": "execute_result"
    }
   ],
   "source": [
    "np.unique(y_pred==y_test,return_counts=True)"
   ]
  },
  {
   "cell_type": "code",
   "execution_count": 143,
   "metadata": {
    "ExecuteTime": {
     "end_time": "2021-02-27T08:05:27.036316Z",
     "start_time": "2021-02-27T08:05:27.032000Z"
    }
   },
   "outputs": [],
   "source": [
    "from sklearn.metrics import confusion_matrix,classification_report,accuracy_score,ConfusionMatrixDisplay"
   ]
  },
  {
   "cell_type": "code",
   "execution_count": 145,
   "metadata": {
    "ExecuteTime": {
     "end_time": "2021-02-27T08:06:09.927331Z",
     "start_time": "2021-02-27T08:06:09.912404Z"
    }
   },
   "outputs": [],
   "source": [
    "cm=confusion_matrix(y_test,y_pred,labels=rf_best.classes_)\n",
    "disp=ConfusionMatrixDisplay(confusion_matrix=cm,display_labels=rf_best.classes_)"
   ]
  },
  {
   "cell_type": "code",
   "execution_count": 146,
   "metadata": {
    "ExecuteTime": {
     "end_time": "2021-02-27T08:06:16.672163Z",
     "start_time": "2021-02-27T08:06:16.291657Z"
    }
   },
   "outputs": [
    {
     "data": {
      "image/png": "[encoded data removed]",
      "text/plain": [
       "<Figure size 432x288 with 2 Axes>"
      ]
     },
     "metadata": {},
     "output_type": "display_data"
    }
   ],
   "source": [
    "disp.plot();"
   ]
  },
  {
   "cell_type": "code",
   "execution_count": 147,
   "metadata": {
    "ExecuteTime": {
     "end_time": "2021-02-27T08:06:43.638327Z",
     "start_time": "2021-02-27T08:06:43.620557Z"
    }
   },
   "outputs": [
    {
     "name": "stdout",
     "output_type": "stream",
     "text": [
      "              precision    recall  f1-score   support\n",
      "\n",
      "           0       0.94      0.89      0.91        18\n",
      "           1       0.89      0.94      0.92        18\n",
      "\n",
      "    accuracy                           0.92        36\n",
      "   macro avg       0.92      0.92      0.92        36\n",
      "weighted avg       0.92      0.92      0.92        36\n",
      "\n"
     ]
    }
   ],
   "source": [
    "print(classification_report(y_test,y_pred))"
   ]
  },
  {
   "cell_type": "markdown",
   "metadata": {},
   "source": [
    "Without doubt, the best model choice for this classification task and for this dataset is the Random Forest with the following characteristics:\n",
    "\n",
    "    - Hyperparameters: max_depth==2\n",
    "    - Preprocessing: None\n",
    "    \n",
    "    \n",
    "performance:\n",
    "\n",
    "    - Cross-validation score == 91.4%\n",
    "    - Training set score == 91.4% to 100% (depending on the max_depth of 2 to 5)\n",
    "    - Test set score == 91.7%\n",
    "    \n",
    "    NOTE: With the maximum depth of 2 this model generalizes well. It is safe to say that this model is at least 92% all the time accurate "
   ]
  },
  {
   "cell_type": "markdown",
   "metadata": {},
   "source": [
    "## Clustering starts here"
   ]
  },
  {
   "cell_type": "code",
   "execution_count": 44,
   "metadata": {
    "ExecuteTime": {
     "end_time": "2021-02-25T06:04:45.859406Z",
     "start_time": "2021-02-25T06:04:45.854007Z"
    }
   },
   "outputs": [],
   "source": [
    "from sklearn.cluster import KMeans,SpectralClustering\n",
    "from sklearn.mixture import GaussianMixture,BayesianGaussianMixture\n",
    "from sklearn.metrics import silhouette_score"
   ]
  },
  {
   "cell_type": "markdown",
   "metadata": {},
   "source": [
    "### Using KMeans"
   ]
  },
  {
   "cell_type": "code",
   "execution_count": 45,
   "metadata": {
    "ExecuteTime": {
     "end_time": "2021-02-25T06:04:52.330162Z",
     "start_time": "2021-02-25T06:04:52.324341Z"
    }
   },
   "outputs": [],
   "source": [
    "kmean=KMeans(2)"
   ]
  },
  {
   "cell_type": "code",
   "execution_count": 46,
   "metadata": {
    "ExecuteTime": {
     "end_time": "2021-02-25T06:04:56.333177Z",
     "start_time": "2021-02-25T06:04:56.284891Z"
    }
   },
   "outputs": [
    {
     "data": {
      "text/plain": [
       "KMeans(n_clusters=2)"
      ]
     },
     "execution_count": 46,
     "metadata": {},
     "output_type": "execute_result"
    }
   ],
   "source": [
    "kmean.fit(X)"
   ]
  },
  {
   "cell_type": "code",
   "execution_count": 47,
   "metadata": {
    "ExecuteTime": {
     "end_time": "2021-02-25T06:05:00.780747Z",
     "start_time": "2021-02-25T06:05:00.765139Z"
    }
   },
   "outputs": [],
   "source": [
    "y_k_pred=kmean.predict(X)"
   ]
  },
  {
   "cell_type": "code",
   "execution_count": 48,
   "metadata": {
    "ExecuteTime": {
     "end_time": "2021-02-25T06:05:07.474527Z",
     "start_time": "2021-02-25T06:05:07.465162Z"
    }
   },
   "outputs": [
    {
     "data": {
      "text/plain": [
       "(array([False,  True]), array([33, 67]))"
      ]
     },
     "execution_count": 48,
     "metadata": {},
     "output_type": "execute_result"
    }
   ],
   "source": [
    "np.unique(y==y_k_pred,return_counts=True)"
   ]
  },
  {
   "cell_type": "code",
   "execution_count": 49,
   "metadata": {
    "ExecuteTime": {
     "end_time": "2021-02-25T06:06:42.268172Z",
     "start_time": "2021-02-25T06:06:42.263200Z"
    }
   },
   "outputs": [],
   "source": [
    "k_label=kmean.labels_"
   ]
  },
  {
   "cell_type": "code",
   "execution_count": 68,
   "metadata": {
    "ExecuteTime": {
     "end_time": "2021-02-25T06:26:13.811181Z",
     "start_time": "2021-02-25T06:26:13.801315Z"
    }
   },
   "outputs": [
    {
     "data": {
      "text/plain": [
       "0.239"
      ]
     },
     "execution_count": 68,
     "metadata": {},
     "output_type": "execute_result"
    }
   ],
   "source": [
    "silhouette_score(X,k_label).round(3)"
   ]
  },
  {
   "cell_type": "markdown",
   "metadata": {},
   "source": [
    "### Using Gaussian Mixture Model"
   ]
  },
  {
   "cell_type": "code",
   "execution_count": 52,
   "metadata": {
    "ExecuteTime": {
     "end_time": "2021-02-25T06:10:47.665496Z",
     "start_time": "2021-02-25T06:10:47.660305Z"
    }
   },
   "outputs": [],
   "source": [
    "gm=GaussianMixture(2,random_state=50,n_init=1)"
   ]
  },
  {
   "cell_type": "code",
   "execution_count": 53,
   "metadata": {
    "ExecuteTime": {
     "end_time": "2021-02-25T06:10:50.169223Z",
     "start_time": "2021-02-25T06:10:50.129568Z"
    }
   },
   "outputs": [
    {
     "data": {
      "text/plain": [
       "GaussianMixture(n_components=2, random_state=50)"
      ]
     },
     "execution_count": 53,
     "metadata": {},
     "output_type": "execute_result"
    }
   ],
   "source": [
    "gm.fit(X)"
   ]
  },
  {
   "cell_type": "code",
   "execution_count": 54,
   "metadata": {
    "ExecuteTime": {
     "end_time": "2021-02-25T06:10:55.925252Z",
     "start_time": "2021-02-25T06:10:55.918762Z"
    }
   },
   "outputs": [],
   "source": [
    "y_gm_pred=gm.predict(X)"
   ]
  },
  {
   "cell_type": "code",
   "execution_count": 55,
   "metadata": {
    "ExecuteTime": {
     "end_time": "2021-02-25T06:11:03.858060Z",
     "start_time": "2021-02-25T06:11:03.849343Z"
    }
   },
   "outputs": [
    {
     "data": {
      "text/plain": [
       "(array([False,  True]), array([31, 69]))"
      ]
     },
     "execution_count": 55,
     "metadata": {},
     "output_type": "execute_result"
    }
   ],
   "source": [
    "np.unique(y_gm_pred==y,return_counts=True) # note: the outcome changes without the use of random_state and \n",
    "                                           # every new random_state value"
   ]
  },
  {
   "cell_type": "code",
   "execution_count": 69,
   "metadata": {
    "ExecuteTime": {
     "end_time": "2021-02-25T06:26:32.341483Z",
     "start_time": "2021-02-25T06:26:32.329225Z"
    }
   },
   "outputs": [
    {
     "data": {
      "text/plain": [
       "-0.833"
      ]
     },
     "execution_count": 69,
     "metadata": {},
     "output_type": "execute_result"
    }
   ],
   "source": [
    "gm.score(X).round(3)"
   ]
  },
  {
   "cell_type": "code",
   "execution_count": 77,
   "metadata": {
    "ExecuteTime": {
     "end_time": "2021-02-25T07:34:13.850452Z",
     "start_time": "2021-02-25T07:34:13.842145Z"
    }
   },
   "outputs": [],
   "source": [
    "X_new=gm.sample(500)"
   ]
  },
  {
   "cell_type": "markdown",
   "metadata": {},
   "source": [
    "### Using Spectral Clustering"
   ]
  },
  {
   "cell_type": "code",
   "execution_count": 56,
   "metadata": {
    "ExecuteTime": {
     "end_time": "2021-02-25T06:13:48.443327Z",
     "start_time": "2021-02-25T06:13:48.436679Z"
    }
   },
   "outputs": [],
   "source": [
    "spec=SpectralClustering(2,random_state=0)"
   ]
  },
  {
   "cell_type": "code",
   "execution_count": 57,
   "metadata": {
    "ExecuteTime": {
     "end_time": "2021-02-25T06:13:52.820553Z",
     "start_time": "2021-02-25T06:13:52.687285Z"
    }
   },
   "outputs": [],
   "source": [
    "y_sp_pred=spec.fit_predict(X)"
   ]
  },
  {
   "cell_type": "code",
   "execution_count": 58,
   "metadata": {
    "ExecuteTime": {
     "end_time": "2021-02-25T06:14:00.226723Z",
     "start_time": "2021-02-25T06:14:00.216639Z"
    }
   },
   "outputs": [
    {
     "data": {
      "text/plain": [
       "(array([False,  True]), array([26, 74]))"
      ]
     },
     "execution_count": 58,
     "metadata": {},
     "output_type": "execute_result"
    }
   ],
   "source": [
    "np.unique(y_sp_pred==y,return_counts=True)"
   ]
  },
  {
   "cell_type": "code",
   "execution_count": 59,
   "metadata": {
    "ExecuteTime": {
     "end_time": "2021-02-25T06:14:49.289075Z",
     "start_time": "2021-02-25T06:14:49.285039Z"
    }
   },
   "outputs": [],
   "source": [
    "s_label=spec.labels_"
   ]
  },
  {
   "cell_type": "code",
   "execution_count": 70,
   "metadata": {
    "ExecuteTime": {
     "end_time": "2021-02-25T06:27:05.891346Z",
     "start_time": "2021-02-25T06:27:05.878066Z"
    }
   },
   "outputs": [
    {
     "data": {
      "text/plain": [
       "0.196"
      ]
     },
     "execution_count": 70,
     "metadata": {},
     "output_type": "execute_result"
    }
   ],
   "source": [
    "silhouette_score(X,s_label).round(3)"
   ]
  },
  {
   "cell_type": "markdown",
   "metadata": {},
   "source": [
    "### Using Bayesian GMM"
   ]
  },
  {
   "cell_type": "code",
   "execution_count": 61,
   "metadata": {
    "ExecuteTime": {
     "end_time": "2021-02-25T06:16:14.756216Z",
     "start_time": "2021-02-25T06:16:14.752239Z"
    }
   },
   "outputs": [],
   "source": [
    "bgm=BayesianGaussianMixture(n_components=2,n_init=10)"
   ]
  },
  {
   "cell_type": "code",
   "execution_count": 62,
   "metadata": {
    "ExecuteTime": {
     "end_time": "2021-02-25T06:16:17.322425Z",
     "start_time": "2021-02-25T06:16:17.072251Z"
    }
   },
   "outputs": [
    {
     "data": {
      "text/plain": [
       "BayesianGaussianMixture(n_components=2, n_init=10)"
      ]
     },
     "execution_count": 62,
     "metadata": {},
     "output_type": "execute_result"
    }
   ],
   "source": [
    "bgm.fit(X)"
   ]
  },
  {
   "cell_type": "code",
   "execution_count": 63,
   "metadata": {
    "ExecuteTime": {
     "end_time": "2021-02-25T06:16:20.112318Z",
     "start_time": "2021-02-25T06:16:20.105704Z"
    }
   },
   "outputs": [],
   "source": [
    "y_bgm_pred=bgm.predict(X)"
   ]
  },
  {
   "cell_type": "code",
   "execution_count": 64,
   "metadata": {
    "ExecuteTime": {
     "end_time": "2021-02-25T06:16:22.762412Z",
     "start_time": "2021-02-25T06:16:22.752666Z"
    }
   },
   "outputs": [
    {
     "data": {
      "text/plain": [
       "(array([False,  True]), array([21, 79]))"
      ]
     },
     "execution_count": 64,
     "metadata": {},
     "output_type": "execute_result"
    }
   ],
   "source": [
    "np.unique(y_bgm_pred==y,return_counts=True)"
   ]
  },
  {
   "cell_type": "code",
   "execution_count": 71,
   "metadata": {
    "ExecuteTime": {
     "end_time": "2021-02-25T06:27:41.900910Z",
     "start_time": "2021-02-25T06:27:41.887282Z"
    }
   },
   "outputs": [
    {
     "data": {
      "text/plain": [
       "-1.329"
      ]
     },
     "execution_count": 71,
     "metadata": {},
     "output_type": "execute_result"
    }
   ],
   "source": [
    "bgm.score(X).round(3)"
   ]
  },
  {
   "cell_type": "markdown",
   "metadata": {},
   "source": [
    "The conclusion for the clustering task is that the Bayesian Gaussian Mixture model is the best choice for this task."
   ]
  },
  {
   "cell_type": "code",
   "execution_count": null,
   "metadata": {},
   "outputs": [],
   "source": []
  }
 ],
 "metadata": {
  "kernelspec": {
   "display_name": "Python 3",
   "language": "python",
   "name": "python3"
  },
  "language_info": {
   "codemirror_mode": {
    "name": "ipython",
    "version": 3
   },
   "file_extension": ".py",
   "mimetype": "text/x-python",
   "name": "python",
   "nbconvert_exporter": "python",
   "pygments_lexer": "ipython3",
   "version": "3.8.3"
  },
  "latex_envs": {
   "LaTeX_envs_menu_present": true,
   "autoclose": false,
   "autocomplete": true,
   "bibliofile": "biblio.bib",
   "cite_by": "apalike",
   "current_citInitial": 1,
   "eqLabelWithNumbers": true,
   "eqNumInitial": 1,
   "hotkeys": {
    "equation": "Ctrl-E",
    "itemize": "Ctrl-I"
   },
   "labels_anchors": false,
   "latex_user_defs": false,
   "report_style_numbering": false,
   "user_envs_cfg": false
  },
  "toc": {
   "base_numbering": 1,
   "nav_menu": {},
   "number_sections": true,
   "sideBar": true,
   "skip_h1_title": false,
   "title_cell": "Table of Contents",
   "title_sidebar": "Contents",
   "toc_cell": false,
   "toc_position": {
    "height": "calc(100% - 180px)",
    "left": "10px",
    "top": "150px",
    "width": "165px"
   },
   "toc_section_display": true,
   "toc_window_display": false
  },
  "varInspector": {
   "cols": {
    "lenName": 16,
    "lenType": 16,
    "lenVar": 40
   },
   "kernels_config": {
    "python": {
     "delete_cmd_postfix": "",
     "delete_cmd_prefix": "del ",
     "library": "var_list.py",
     "varRefreshCmd": "print(var_dic_list())"
    },
    "r": {
     "delete_cmd_postfix": ") ",
     "delete_cmd_prefix": "rm(",
     "library": "var_list.r",
     "varRefreshCmd": "cat(var_dic_list()) "
    }
   },
   "types_to_exclude": [
    "module",
    "function",
    "builtin_function_or_method",
    "instance",
    "_Feature"
   ],
   "window_display": false
  }
 },
 "nbformat": 4,
 "nbformat_minor": 4
}
